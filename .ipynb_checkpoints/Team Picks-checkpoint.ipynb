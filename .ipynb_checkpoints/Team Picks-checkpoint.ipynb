{
 "cells": [
  {
   "cell_type": "code",
   "execution_count": 1,
   "id": "db7b24e0",
   "metadata": {},
   "outputs": [],
   "source": [
    "import random\n",
    "import matplotlib.pyplot as plt\n",
    "import numpy as np\n",
    "import seaborn as sns\n",
    "\n",
    "team_size = 3\n",
    "num_trials = 100000"
   ]
  },
  {
   "cell_type": "code",
   "execution_count": 2,
   "id": "7f56068c",
   "metadata": {},
   "outputs": [],
   "source": [
    "def choose_caps():\n",
    "    \"\"\" picks two captains at random from a list of players\n",
    "\n",
    "    Returns:\n",
    "        t1 (list): list containing the team1 captain\n",
    "        t2 (list): list containing the team2 captain\n",
    "        players (list): list of remaining players\n",
    "    \"\"\"\n",
    "    players = list(range(0,2 * team_size))\n",
    "    t1_cap = random.choice(players)\n",
    "    t1 = [t1_cap]\n",
    "    players.remove(t1_cap)\n",
    "    t2_cap = random.choice(players)\n",
    "    t2 = [t2_cap]\n",
    "    players.remove(t2_cap)\n",
    "    return players, t1, t2"
   ]
  },
  {
   "cell_type": "code",
   "execution_count": 3,
   "id": "9f3cceed",
   "metadata": {},
   "outputs": [],
   "source": [
    "def skill_diff(t1,t2):\n",
    "    \"\"\" calculates the positive skill difference between two teams\n",
    "\n",
    "    Args:\n",
    "        t1 (list): list containing team1\n",
    "        t2 (list): list containing team2\n",
    "    Returns:\n",
    "        sk_df (float): absolute value of the skill difference between the teams \n",
    "    \"\"\"\n",
    "    t1_skill = sum(t1) / len(t1)\n",
    "    t2_skill = sum(t2) / len(t2)\n",
    "    sk_df = round(abs(t1_skill-t2_skill),2)\n",
    "    return sk_df"
   ]
  },
  {
   "cell_type": "code",
   "execution_count": 4,
   "id": "cae89824",
   "metadata": {},
   "outputs": [],
   "source": [
    "def pick1_pick1(players,numpicks):\n",
    "    \"\"\" forms teams such that each team takes turns picking the highest rated player\n",
    "\n",
    "    Args:\n",
    "        players (list): list of players to choose from\n",
    "        numpicks (int): number of players to choose for each team\n",
    "    Returns:\n",
    "        t1 (list): list containing team1\n",
    "        t2 (list): list containing team2\n",
    "    \"\"\"\n",
    "    for i in range(team_size-numpicks):\n",
    "        t1.append(max(players))\n",
    "        players.remove(max(players))\n",
    "        t2.append(max(players))\n",
    "        players.remove(max(players))\n",
    "    return t1, t2"
   ]
  },
  {
   "cell_type": "code",
   "execution_count": 5,
   "id": "77c7fc20",
   "metadata": {},
   "outputs": [],
   "source": [
    "def pick1_pick2(players):\n",
    "    \"\"\" forms teams such that team1 picks one, team2 pickes two, then they continue picking one each\n",
    "\n",
    "    Args:\n",
    "        players (list): list of players to choose from\n",
    "    Returns:\n",
    "        t1 (list): list containing team1\n",
    "        t2 (list): list containing team2\n",
    "    \"\"\"\n",
    "    t1 = []\n",
    "    t2 = []\n",
    "    #team1 picks one\n",
    "    t1.append(max(players))\n",
    "    players.remove(max(players))\n",
    "    #team2 picks two\n",
    "    for i in range(2):\n",
    "        t2.append(max(players))\n",
    "        players.remove(max(players))\n",
    "    #teams take turns picking one each (pick1_pick1)\n",
    "    t1p1, t2p1 = pick1_pick1(players,team_size-3)\n",
    "    t1 = t1 + t1p1\n",
    "    t2 = t2 + t2p1\n",
    "    #team1 gets the leftover player\n",
    "    t1.append(max(players))   "
   ]
  },
  {
   "cell_type": "code",
   "execution_count": 6,
   "id": "db88b204",
   "metadata": {},
   "outputs": [],
   "source": [
    "skill_diff_1_list = []\n",
    "for i in range(num_trials):\n",
    "    players, t1, t2 = choose_caps()\n",
    "    t1, t2 = pick1_pick1(players,team_size-1)\n",
    "    skill_diff_1_list.append(skill_diff)"
   ]
  },
  {
   "cell_type": "code",
   "execution_count": 7,
   "id": "da5d58f2",
   "metadata": {},
   "outputs": [
    {
     "ename": "ValueError",
     "evalue": "max() arg is an empty sequence",
     "output_type": "error",
     "traceback": [
      "\u001b[0;31m---------------------------------------------------------------------------\u001b[0m",
      "\u001b[0;31mValueError\u001b[0m                                Traceback (most recent call last)",
      "Cell \u001b[0;32mIn [7], line 4\u001b[0m\n\u001b[1;32m      2\u001b[0m \u001b[38;5;28;01mfor\u001b[39;00m i \u001b[38;5;129;01min\u001b[39;00m \u001b[38;5;28mrange\u001b[39m(num_trials):\n\u001b[1;32m      3\u001b[0m     players, t1, t2 \u001b[38;5;241m=\u001b[39m choose_caps()\n\u001b[0;32m----> 4\u001b[0m     t1, t2 \u001b[38;5;241m=\u001b[39m \u001b[43mpick1_pick2\u001b[49m\u001b[43m(\u001b[49m\u001b[43mplayers\u001b[49m\u001b[43m)\u001b[49m  \n\u001b[1;32m      5\u001b[0m     skill_diff_list\u001b[38;5;241m.\u001b[39mappend(skill_diff)\n",
      "Cell \u001b[0;32mIn [5], line 20\u001b[0m, in \u001b[0;36mpick1_pick2\u001b[0;34m(players)\u001b[0m\n\u001b[1;32m     18\u001b[0m     players\u001b[38;5;241m.\u001b[39mremove(\u001b[38;5;28mmax\u001b[39m(players))\n\u001b[1;32m     19\u001b[0m \u001b[38;5;66;03m#teams take turns picking one each (pick1_pick1)\u001b[39;00m\n\u001b[0;32m---> 20\u001b[0m t1p1, t2p1 \u001b[38;5;241m=\u001b[39m \u001b[43mpick1_pick1\u001b[49m\u001b[43m(\u001b[49m\u001b[43mplayers\u001b[49m\u001b[43m,\u001b[49m\u001b[43mteam_size\u001b[49m\u001b[38;5;241;43m-\u001b[39;49m\u001b[38;5;241;43m3\u001b[39;49m\u001b[43m)\u001b[49m\n\u001b[1;32m     21\u001b[0m t1 \u001b[38;5;241m=\u001b[39m t1 \u001b[38;5;241m+\u001b[39m t1p1\n\u001b[1;32m     22\u001b[0m t2 \u001b[38;5;241m=\u001b[39m t2 \u001b[38;5;241m+\u001b[39m t2p1\n",
      "Cell \u001b[0;32mIn [4], line 14\u001b[0m, in \u001b[0;36mpick1_pick1\u001b[0;34m(players, numpicks)\u001b[0m\n\u001b[1;32m     12\u001b[0m     t1\u001b[38;5;241m.\u001b[39mappend(\u001b[38;5;28mmax\u001b[39m(players))\n\u001b[1;32m     13\u001b[0m     players\u001b[38;5;241m.\u001b[39mremove(\u001b[38;5;28mmax\u001b[39m(players))\n\u001b[0;32m---> 14\u001b[0m     t2\u001b[38;5;241m.\u001b[39mappend(\u001b[38;5;28;43mmax\u001b[39;49m\u001b[43m(\u001b[49m\u001b[43mplayers\u001b[49m\u001b[43m)\u001b[49m)\n\u001b[1;32m     15\u001b[0m     players\u001b[38;5;241m.\u001b[39mremove(\u001b[38;5;28mmax\u001b[39m(players))\n\u001b[1;32m     16\u001b[0m \u001b[38;5;28;01mreturn\u001b[39;00m t1, t2\n",
      "\u001b[0;31mValueError\u001b[0m: max() arg is an empty sequence"
     ]
    }
   ],
   "source": [
    "skill_diff_2_list = []\n",
    "for i in range(num_trials):\n",
    "    players, t1, t2 = choose_caps()\n",
    "    t1, t2 = pick1_pick2(players)  \n",
    "    skill_diff_list.append(skill_diff)"
   ]
  },
  {
   "cell_type": "code",
   "execution_count": null,
   "id": "dd9ca780",
   "metadata": {},
   "outputs": [],
   "source": [
    "avg_skdiff_1 = round(sum(skill_diff_1_list) / len(skill_diff_1_list),4)\n",
    "avg_skdiff_2 = round(sum(skill_diff_2_list) / len(skill_diff_2_list),4)\n",
    "print('method1_avg_skill_diff',avg_skdiff_1)\n",
    "print('method2_avg_skill_diff',avg_skdiff_2)"
   ]
  },
  {
   "cell_type": "code",
   "execution_count": null,
   "id": "1a5108ca",
   "metadata": {
    "scrolled": true
   },
   "outputs": [],
   "source": [
    "bins = np.linspace(0, 2.5, 6) # determines size of histogram bins, change as needed\n",
    "\n",
    "plt.hist(skill_diff_1_list,bins=bins,color='lightcoral')\n",
    "plt.gca().title.set_text('method1')\n",
    "plt.xlabel('skill_diff')\n",
    "plt.ylabel('count')\n",
    "sns.set()"
   ]
  },
  {
   "cell_type": "code",
   "execution_count": null,
   "id": "29c2379d",
   "metadata": {},
   "outputs": [],
   "source": [
    "plt.hist(skill_diff_2_list,bins=bins, color='lightgreen')\n",
    "plt.gca().title.set_text('method2') \n",
    "plt.xlabel('skill_diff')\n",
    "plt.ylabel('count')\n",
    "sns.set()"
   ]
  },
  {
   "cell_type": "code",
   "execution_count": null,
   "id": "682c390b",
   "metadata": {},
   "outputs": [],
   "source": []
  }
 ],
 "metadata": {
  "kernelspec": {
   "display_name": "Python 3 (ipykernel)",
   "language": "python",
   "name": "python3"
  },
  "language_info": {
   "codemirror_mode": {
    "name": "ipython",
    "version": 3
   },
   "file_extension": ".py",
   "mimetype": "text/x-python",
   "name": "python",
   "nbconvert_exporter": "python",
   "pygments_lexer": "ipython3",
   "version": "3.8.13"
  },
  "vscode": {
   "interpreter": {
    "hash": "aee8b7b246df8f9039afb4144a1f6fd8d2ca17a180786b69acc140d282b71a49"
   }
  }
 },
 "nbformat": 4,
 "nbformat_minor": 5
}
