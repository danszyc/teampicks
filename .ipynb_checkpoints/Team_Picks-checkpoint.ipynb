{
 "cells": [
  {
   "cell_type": "markdown",
   "id": "dbf0e87a",
   "metadata": {},
   "source": [
    "# Team Picks\n",
    "\n",
    "Dan Szyc\n",
    "\n",
    "-------\n",
    "\n",
    "### Motivation\n",
    "\n",
    "Regardless of the sport, activity, or event, we often prefer to have fair teams. Suppose two team captains are chosen at random from a pool of players. In hopes of creating the best team, they take turns choosing the best player available. Team 1's captain gets first pick, then Team 2's captain picks the second best player, and the process repeats. But is this the method fair to Team 2? Suppose Team 2's captain is allowed to pick *two* players, the second and third-best players, then Team 1 picks one, and Team 2 picks one, and so on. Which method results in the fairest teams?\n"
   ]
  },
  {
   "cell_type": "code",
   "execution_count": 1,
   "id": "2c3b690d",
   "metadata": {},
   "outputs": [],
   "source": [
    "team_size = 3\n",
    "num_trials = 1000000\n",
    "\n",
    "import random\n",
    "import matplotlib.pyplot as plt\n",
    "import numpy as np\n",
    "import seaborn as sns"
   ]
  },
  {
   "cell_type": "markdown",
   "id": "80b4d6f3",
   "metadata": {},
   "source": [
    "#### Below are two operations that need not be changed as `team-size` is manipulated. The only situation in which they should be modified is to compare choosing patterns for more than two teams."
   ]
  },
  {
   "cell_type": "code",
   "execution_count": 2,
   "id": "7f56068c",
   "metadata": {},
   "outputs": [],
   "source": [
    "def choose_caps():\n",
    "    \"\"\" picks two captains at random from a list of players\n",
    "\n",
    "    Returns:\n",
    "        t1 (list): list containing the team1 captain\n",
    "        t2 (list): list containing the team2 captain\n",
    "        players (list): remaining players\n",
    "    \"\"\"\n",
    "    # create a list of players ranked by skill \n",
    "    players = list(range(0,2 * team_size))\n",
    "    \n",
    "    # choose captains at random and remove them from the player pool\n",
    "    t1_cap = random.choice(players)\n",
    "    t1 = [t1_cap]\n",
    "    players.remove(t1_cap)\n",
    "    t2_cap = random.choice(players)\n",
    "    t2 = [t2_cap]\n",
    "    players.remove(t2_cap)\n",
    "    \n",
    "    return players, t1, t2"
   ]
  },
  {
   "cell_type": "code",
   "execution_count": 3,
   "id": "9f3cceed",
   "metadata": {},
   "outputs": [],
   "source": [
    "def skill_diff(t1,t2):\n",
    "    \"\"\" calculates the positive skill difference between two teams\n",
    "\n",
    "    Args:\n",
    "        t1 (list): team1\n",
    "        t2 (list): team2\n",
    "    Returns:\n",
    "        sk_df (float): positive skill difference between the teams \n",
    "    \"\"\"\n",
    "    t1_skill = sum(t1) / len(t1)\n",
    "    t2_skill = sum(t2) / len(t2)\n",
    "    sk_df = round(abs(t1_skill-t2_skill),2)\n",
    "    \n",
    "    return sk_df"
   ]
  },
  {
   "cell_type": "markdown",
   "id": "f8ddc34b",
   "metadata": {},
   "source": [
    "#### This section defines the order in which team captains choose their players. More complex choosing patterns are needed to choose fair teams as `team-size` increases. For the purpose of this simple example, these two patterns suffice."
   ]
  },
  {
   "cell_type": "code",
   "execution_count": 4,
   "id": "cae89824",
   "metadata": {},
   "outputs": [],
   "source": [
    "def pick1_pick1(players):\n",
    "    \"\"\" forms teams such that each team takes turns picking the highest rated player\n",
    "\n",
    "    Args:\n",
    "        players (list): list of players to choose from\n",
    "    Returns:\n",
    "        t1 (list): list containing team1\n",
    "        t2 (list): list containing team2\n",
    "    \"\"\"\n",
    "    # \n",
    "    for i in range(team_size-1):\n",
    "        t1.append(max(players))\n",
    "        players.remove(max(players))\n",
    "        t2.append(max(players))\n",
    "        players.remove(max(players))\n",
    "    return t1, t2"
   ]
  },
  {
   "cell_type": "code",
   "execution_count": 5,
   "id": "77c7fc20",
   "metadata": {},
   "outputs": [],
   "source": [
    "def pick1_pick2(players):\n",
    "    \"\"\" forms teams such that team1 picks one, team2 pickes two, then they continue picking one each\n",
    "\n",
    "    Args:\n",
    "        players (list): players to choose from\n",
    "    Returns:\n",
    "        t1 (list): team1\n",
    "        t2 (list): team2\n",
    "    \"\"\"\n",
    "    #team1 picks one\n",
    "    t1.append(max(players))\n",
    "    players.remove(max(players))\n",
    "    \n",
    "    #team2 picks two\n",
    "    for i in range(2):\n",
    "        t2.append(max(players))\n",
    "        players.remove(max(players))\n",
    "        \n",
    "    #teams take turns picking one each (pick1_pick1)\n",
    "    for i in range(team_size-3):\n",
    "        t1.append(max(players))\n",
    "        players.remove(max(players))\n",
    "        t2.append(max(players))\n",
    "        players.remove(max(players))\n",
    "    \n",
    "    #team1 gets the leftover player\n",
    "    t1.append(min(players))\n",
    "    return t1, t2"
   ]
  },
  {
   "cell_type": "markdown",
   "id": "b43d04a3",
   "metadata": {},
   "source": [
    "### Putting it all together"
   ]
  },
  {
   "cell_type": "code",
   "execution_count": 6,
   "id": "db88b204",
   "metadata": {},
   "outputs": [
    {
     "name": "stdout",
     "output_type": "stream",
     "text": [
      "p1p1_avg_skill_diff 1.0884\n",
      "p1p2_avg_skill_diff 0.8216\n"
     ]
    }
   ],
   "source": [
    "# repeat the pick1pick1 method num_trails times, storing the skill difference result of each trial\n",
    "skill_diff_p1p1 = []\n",
    "for i in range(num_trials):\n",
    "    players, t1, t2 = choose_caps()\n",
    "    t1, t2 = pick1_pick1(players)\n",
    "    skill_diff_p1p1.append(skill_diff(t1,t2))\n",
    "    \n",
    "# repeat the pick1pick2 method num_trails times, storing the skill difference result of each trial\n",
    "skill_diff_p1p2 = []\n",
    "for i in range(num_trials):\n",
    "    players, t1, t2 = choose_caps()\n",
    "    t1, t2 = pick1_pick2(players)  \n",
    "    skill_diff_p1p2.append(skill_diff(t1,t2))\n",
    "    \n",
    "# display the average skill difference of each pattern\n",
    "avg_skdiff_p1p1 = round(sum(skill_diff_p1p1) / len(skill_diff_p1p1),4)\n",
    "avg_skdiff_p1p2 = round(sum(skill_diff_p1p2) / len(skill_diff_p1p2),4)\n",
    "print('p1p1_avg_skill_diff',avg_skdiff_p1p1)\n",
    "print('p1p2_avg_skill_diff',avg_skdiff_p1p2)"
   ]
  },
  {
   "cell_type": "markdown",
   "id": "b6f79b32",
   "metadata": {},
   "source": [
    "### Visualization"
   ]
  },
  {
   "cell_type": "code",
   "execution_count": 8,
   "id": "de8f0e66",
   "metadata": {},
   "outputs": [
    {
     "data": {
      "image/png": "[encoded data removed]",
      "text/plain": [
       "<Figure size 1400x600 with 2 Axes>"
      ]
     },
     "metadata": {},
     "output_type": "display_data"
    }
   ],
   "source": [
    "# determine size of histogram bins\n",
    "bins = np.linspace(0, 2.5, 25) \n",
    "\n",
    "# plot histograms for comparison\n",
    "plt.subplot(1, 2, 1)\n",
    "plt.hist(skill_diff_p1p1,bins=bins,color='lightcoral')\n",
    "plt.gca().title.set_text('p1p1')\n",
    "plt.xlabel('skill_diff')\n",
    "plt.ylabel('count')\n",
    "\n",
    "plt.subplot(1, 2, 2)\n",
    "plt.hist(skill_diff_p1p2,bins=bins, color='lightgreen')\n",
    "plt.gca().title.set_text('p1p2') \n",
    "plt.xlabel('skill_diff')\n",
    "plt.ylabel('count')\n",
    "\n",
    "# aesthetics\n",
    "sns.set()\n",
    "plt.gcf().set_size_inches(14, 6)\n",
    "plt.subplots_adjust(wspace=.2, hspace=.1)"
   ]
  },
  {
   "cell_type": "markdown",
   "id": "1bc1879f",
   "metadata": {},
   "source": [
    "-----\n",
    "\n",
    "### Assumptions\n",
    "\n",
    "- Captains are assumed to always pick the player with the highest skill.\n",
    "    - A captain might choose their friend instead of the best player.\n",
    "- It is assumed that there are consistent gaps between the skill of players. \n",
    "    - The best player in the pool can be 10x better than the rest, meaning one team will outskill the other regardless of the choosing pattern.\n",
    "- There must be exactly two teams.\n",
    "    - Modifications must be made to support more.\n",
    "- There must be an equal number of people per team.\n",
    "    - Uneven teams are not accounted for.\n",
    "- The method of choosing captains is truly random.\n",
    "    - [No computer can make a truly random choice](https://slate.com/technology/2022/06/bridle-ways-of-being-excerpt-computer-randomness.html#:~:text=To%20repeat%2C%20computers%20are%20incapable,mathematical%20operation%20is%20truly%20random.).\n",
    "\n",
    "# Conclusion\n",
    "\n",
    "Although our assumptions are never perfectly met, the standard practice of picking 121212 is clearly not the optimal strategy. This example demonstrates that following a 122121 pattern is the fairest way to choose two teams of three players. For more reading on this topic, I recommend [this article](https://datagenetics.com/blog/may22021/index.html)."
   ]
  },
  {
   "cell_type": "code",
   "execution_count": null,
   "id": "4eaaf10a",
   "metadata": {},
   "outputs": [],
   "source": []
  }
 ],
 "metadata": {
  "kernelspec": {
   "display_name": "Python 3 (ipykernel)",
   "language": "python",
   "name": "python3"
  },
  "language_info": {
   "codemirror_mode": {
    "name": "ipython",
    "version": 3
   },
   "file_extension": ".py",
   "mimetype": "text/x-python",
   "name": "python",
   "nbconvert_exporter": "python",
   "pygments_lexer": "ipython3",
   "version": "3.8.13"
  },
  "vscode": {
   "interpreter": {
    "hash": "aee8b7b246df8f9039afb4144a1f6fd8d2ca17a180786b69acc140d282b71a49"
   }
  }
 },
 "nbformat": 4,
 "nbformat_minor": 5
}
